{
 "cells": [
  {
   "cell_type": "code",
   "execution_count": 14,
   "metadata": {},
   "outputs": [
    {
     "name": "stdout",
     "output_type": "stream",
     "text": [
      "cuda:0\n"
     ]
    }
   ],
   "source": [
    "import torch\n",
    "import torchvision\n",
    "import torch.nn as nn\n",
    "from sklearn.decomposition import PCA\n",
    "from sklearn.preprocessing import StandardScaler, LabelEncoder\n",
    "import pandas as pd\n",
    "from sklearn.metrics import confusion_matrix, precision_score, recall_score, f1_score\n",
    "import matplotlib.pyplot as plt\n",
    "import numpy as np\n",
    "\n",
    "device = torch.device('cuda:0' if torch.cuda.is_available() else 'cpu')\n",
    "print(device)\n"
   ]
  },
  {
   "cell_type": "code",
   "execution_count": 15,
   "metadata": {},
   "outputs": [],
   "source": [
    "def load_and_preprocess_data(file_path):\n",
    "    # Load data from the CSV file\n",
    "    data = pd.read_csv(file_path, header=None)\n",
    "    labels = data.iloc[:, 0].values\n",
    "    features = data.iloc[:, 1:].values\n",
    "    \n",
    "    # Preprocess the features using StandardScaler\n",
    "    scaler = StandardScaler()\n",
    "    features_scaled = scaler.fit_transform(features)\n",
    "\n",
    "    '''# Step 3: Initialize PCA object with desired number of components\n",
    "    num_components = 8  # Set the desired number of components\n",
    "    pca = PCA(n_components=num_components)\n",
    "\n",
    "    # Fit PCA model to the scaled data\n",
    "    pca.fit(features_scaled)\n",
    "\n",
    "    #Transform the data using the fitted PCA model\n",
    "    features_scaled = pca.transform(features_scaled)'''\n",
    "    \n",
    "    # Encode categorical labels into numerical form\n",
    "    label_encoder = LabelEncoder()\n",
    "    labels_encoded = label_encoder.fit_transform(labels)\n",
    "    \n",
    "    # Convert features and labels to torch tensors\n",
    "    features_tensor = torch.tensor(features_scaled, dtype=torch.float32)\n",
    "    #features_tensor = torch.tensor(features, dtype=torch.float32)\n",
    "    labels_tensor = torch.tensor(labels_encoded, dtype=torch.long)\n",
    "    \n",
    "    return features_tensor, labels_tensor#, scaler, pca"
   ]
  },
  {
   "cell_type": "code",
   "execution_count": 16,
   "metadata": {},
   "outputs": [],
   "source": [
    "train_features, train_labels = load_and_preprocess_data('lbp_features_train.csv')#, scaler, train_pca\n",
    "\n",
    "test_features, test_labels = load_and_preprocess_data('lbp_features_test.csv')#, scaler, test_pca\n",
    "\n",
    "features = torch.cat((train_features, test_features), dim=0)\n",
    "labels = torch.cat((train_labels, test_labels), dim=0)\n"
   ]
  },
  {
   "cell_type": "code",
   "execution_count": 17,
   "metadata": {},
   "outputs": [],
   "source": [
    "# Define the MLP model\n",
    "input_size = features.shape[1]\n",
    "\n",
    "class MLP(nn.Module):\n",
    "    def __init__(self, input_size):\n",
    "        super(MLP, self).__init__()\n",
    "        self.fc1 = nn.Linear(input_size, 16)\n",
    "        self.relu = nn.ReLU()\n",
    "        self.fc2 = nn.Linear(16, 2)\n",
    "\n",
    "    def forward(self, x):\n",
    "        out = self.fc1(x)\n",
    "        out = self.relu(out)\n",
    "        out = self.fc2(out)\n",
    "        return out\n",
    "\n",
    "\n",
    "model = MLP(input_size)\n",
    "model.load_state_dict(torch.load(\"MLP_state_dict.pth\"))\n",
    "model = model.to(device)"
   ]
  },
  {
   "cell_type": "code",
   "execution_count": 18,
   "metadata": {},
   "outputs": [],
   "source": [
    "model.eval() \n",
    "y_true = []\n",
    "y_pred = []\n",
    "\n",
    "\n",
    "with torch.no_grad():\n",
    "    features = features.to(device)\n",
    "    labels = labels.to(device)\n",
    "    outputs = model(features)\n",
    "    _, predicted = torch.max(outputs.data, 1)\n",
    "\n",
    "    y_true.extend(labels.tolist()) \n",
    "    y_pred.extend(predicted.tolist())"
   ]
  },
  {
   "cell_type": "code",
   "execution_count": 19,
   "metadata": {},
   "outputs": [
    {
     "name": "stdout",
     "output_type": "stream",
     "text": [
      "Precision: 0.8418\n",
      "Recall: 0.8377\n",
      "F1 Score: 0.8368\n"
     ]
    }
   ],
   "source": [
    "precision = precision_score(y_true, y_pred, average='weighted')\n",
    "recall = recall_score(y_true, y_pred, average='weighted')\n",
    "f1 = f1_score(y_true, y_pred, average='weighted')\n",
    "\n",
    "print(\"Precision: {:.4f}\".format(precision))\n",
    "print(\"Recall: {:.4f}\".format(recall))\n",
    "print(\"F1 Score: {:.4f}\".format(f1))"
   ]
  },
  {
   "cell_type": "code",
   "execution_count": 20,
   "metadata": {},
   "outputs": [],
   "source": [
    "class_names = ['benign', 'malignant']  # Replace with your actual class names\n",
    "\n",
    "decoded_true_labels = [class_names[label] for label in y_true]\n",
    "decoded_pred_labels = [class_names[label] for label in y_pred]"
   ]
  },
  {
   "cell_type": "code",
   "execution_count": 21,
   "metadata": {},
   "outputs": [
    {
     "name": "stdout",
     "output_type": "stream",
     "text": [
      "Confusion Matrix:\n",
      "[[4953  547]\n",
      " [1174 3931]]\n"
     ]
    }
   ],
   "source": [
    "confusion_mat = confusion_matrix(decoded_true_labels, decoded_pred_labels)\n",
    "print(\"Confusion Matrix:\")\n",
    "print(confusion_mat)\n"
   ]
  },
  {
   "cell_type": "code",
   "execution_count": 22,
   "metadata": {},
   "outputs": [
    {
     "data": {
      "image/png": "[encoded data removed]",
      "text/plain": [
       "<Figure size 640x480 with 2 Axes>"
      ]
     },
     "metadata": {},
     "output_type": "display_data"
    }
   ],
   "source": [
    "fig, ax = plt.subplots()\n",
    "im = ax.imshow(confusion_mat, interpolation='nearest', cmap=plt.cm.YlOrRd)\n",
    "ax.figure.colorbar(im, ax=ax)\n",
    "ax.set(xticks=np.arange(confusion_mat.shape[1]),\n",
    "       yticks=np.arange(confusion_mat.shape[0]),\n",
    "       xticklabels=class_names, yticklabels=class_names,\n",
    "       xlabel='Predicted label',\n",
    "       ylabel='True label',\n",
    "       title='Confusion Matrix')\n",
    "\n",
    "# Loop over data dimensions and create text annotations\n",
    "for i in range(len(class_names)):\n",
    "    for j in range(len(class_names)):\n",
    "        text = ax.text(j, i, confusion_mat[i, j],\n",
    "                       ha=\"center\", va=\"center\", color=\"black\")\n",
    "\n",
    "plt.show()\n"
   ]
  },
  {
   "cell_type": "code",
   "execution_count": null,
   "metadata": {},
   "outputs": [],
   "source": []
  }
 ],
 "metadata": {
  "kernelspec": {
   "display_name": "Python 3",
   "language": "python",
   "name": "python3"
  },
  "language_info": {
   "codemirror_mode": {
    "name": "ipython",
    "version": 3
   },
   "file_extension": ".py",
   "mimetype": "text/x-python",
   "name": "python",
   "nbconvert_exporter": "python",
   "pygments_lexer": "ipython3",
   "version": "3.10.11"
  },
  "orig_nbformat": 4
 },
 "nbformat": 4,
 "nbformat_minor": 2
}
